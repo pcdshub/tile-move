{
 "cells": [
  {
   "cell_type": "code",
   "execution_count": 2,
   "id": "5420fdc5-43c6-45e3-a90b-45e9f56a3e5b",
   "metadata": {},
   "outputs": [],
   "source": [
    "from jinja2 import Environment, FileSystemLoader"
   ]
  },
  {
   "cell_type": "code",
   "execution_count": 3,
   "id": "a2ccbb5a-c9dd-4440-98a8-c1b20ccce176",
   "metadata": {},
   "outputs": [],
   "source": [
    "env=Environment(loader=FileSystemLoader('.'), autoescape=True)"
   ]
  },
  {
   "cell_type": "code",
   "execution_count": 4,
   "id": "67aaeeb5-c19c-4cf7-be8c-ffbff1a132a3",
   "metadata": {},
   "outputs": [
    {
     "ename": "NameError",
     "evalue": "name 'Client' is not defined",
     "output_type": "error",
     "traceback": [
      "\u001b[0;31m---------------------------------------------------------------------------\u001b[0m",
      "\u001b[0;31mNameError\u001b[0m                                 Traceback (most recent call last)",
      "Cell \u001b[0;32mIn[4], line 1\u001b[0m\n\u001b[0;32m----> 1\u001b[0m client\u001b[38;5;241m=\u001b[39mClient(path\u001b[38;5;241m=\u001b[39m\u001b[38;5;124m'\u001b[39m\u001b[38;5;124m/Users/nagar123/anaconda3/pcds_conda/db.json\u001b[39m\u001b[38;5;124m'\u001b[39m)\n",
      "\u001b[0;31mNameError\u001b[0m: name 'Client' is not defined"
     ]
    }
   ],
   "source": [
    "client=Client(path='/Users/nagar123/anaconda3/pcds_conda/db.json')"
   ]
  },
  {
   "cell_type": "code",
   "execution_count": 5,
   "id": "bc5df596-5165-4672-b942-8bf33fd811b1",
   "metadata": {},
   "outputs": [],
   "source": [
    "import json\n",
    "\n",
    "# Define the path to your JSON file\n",
    "json_file_path = \"/Users/nagar123/anaconda3/pcds_conda/db.json\"\n"
   ]
  },
  {
   "cell_type": "code",
   "execution_count": 6,
   "id": "aaddc819-126a-438f-a339-bd64bc1ba01e",
   "metadata": {},
   "outputs": [
    {
     "name": "stdout",
     "output_type": "stream",
     "text": [
      "Device found:\n",
      "{'_id': 'lm2k2_inj_dp1_tf1_sl1', 'active': True, 'args': ['{{prefix}}'], 'beamline': 'CRIX_MODS', 'creation': 'Fri Aug 27 11:14:35 2021', 'device_class': 'pcdsdevices.device_types.Ell6', 'documentation': None, 'functional_group': 'elliptecs', 'input_branches': None, 'ioc_alias': 'LM2K2:INJ_DP1_TF1_SL1', 'ioc_arch': 'rhel7-x86_64', 'ioc_base': 'LM2K2:INJ:ELL:0', 'ioc_channel': '2', 'ioc_engineer': 'tjohnson', 'ioc_hutch': 'LAS', 'ioc_location': 'ChemRIXS MODS', 'ioc_model': 'ELL6', 'ioc_name': 'ioc-lm2k2-inj-ell-01', 'ioc_release': '/reg/g/pcds/epics/ioc/common/thorlabs-ell/R0.0.6', 'ioc_serial': 'DO01211V', 'ioc_type': 'Elliptec', 'kwargs': {'channel': '{{ioc_channel}}', 'name': '{{name}}', 'port': '0'}, 'last_edit': 'Fri Jan 12 11:47:28 2024', 'lightpath': False, 'location_group': '1_lm2k2_inj', 'name': 'lm2k2_inj_dp1_tf1_sl1', 'output_branches': None, 'prefix': 'LM2K2:INJ:ELL:1', 'stand': None, 'type': 'pcdsdevices.happi.containers.Elliptec', 'z': -1.0}\n"
     ]
    }
   ],
   "source": [
    "search_name = \"lm2k2_inj_dp1_tf1_sl1\"  # The name you want to search for\n",
    "\n",
    "# Read the JSON file\n",
    "with open(json_file_path, \"r\") as file:\n",
    "    data = json.load(file)\n",
    "\n",
    "# Search for the device by name\n",
    "found_device = None\n",
    "for key, value in data.items():\n",
    "    if value.get(\"name\") == search_name:\n",
    "        found_device = value\n",
    "        break\n",
    "\n",
    "# Check if the device was found\n",
    "if found_device:\n",
    "    print(\"Device found:\")\n",
    "    print(found_device)\n",
    "else:\n",
    "    print(\"Device not found.\")"
   ]
  },
  {
   "cell_type": "code",
   "execution_count": 7,
   "id": "3b73759d-9460-4bcb-8aa4-8b1a4895dd86",
   "metadata": {},
   "outputs": [],
   "source": [
    "#template for the elleptics IOCs\n",
    "template=env.get_template('ioc_template.txt')\n"
   ]
  },
  {
   "cell_type": "code",
   "execution_count": 8,
   "id": "9711389f-3426-4cca-850e-02374821e20c",
   "metadata": {},
   "outputs": [],
   "source": [
    "vars={\n",
    "    'release':found_device.get('ioc_release'),\n",
    "    'engineer':found_device.get('ioc_engineer'),\n",
    "    'location':found_device.get('beamline'),\n",
    "    'ioc_pv':found_device.get('prefix'),\n",
    "    'arch':found_device.get('ioc_arch'),\n",
    "    'base':found_device.get('prefix'),\n",
    "    'serial':found_device.get('ioc_serial'),\n",
    "    'seq': int(found_device.get('ioc_channel')),\n",
    "    'ioc_model': found_device.get('ioc_model'),\n",
    "    'record':found_device.get('prefix'),\n",
    "    'alias':found_device.get('ioc_alias')\n",
    "}"
   ]
  },
  {
   "cell_type": "code",
   "execution_count": 9,
   "id": "367381ee-c607-49d8-a126-d867658950d9",
   "metadata": {},
   "outputs": [],
   "source": [
    "output=template.render(vars)"
   ]
  },
  {
   "cell_type": "code",
   "execution_count": 10,
   "id": "6a00fcae-59d3-4ba9-87fe-9a2e4362c955",
   "metadata": {},
   "outputs": [
    {
     "name": "stdout",
     "output_type": "stream",
     "text": [
      "RELEASE= /reg/g/pcds/epics/ioc/common/thorlabs-ell/R0.0.6\n",
      "ENGINEER= tjohnson\n",
      "LOCATION=CRIX_MODS\n",
      "IOC_PV=IOC:LM2K2:INJ:ELL:1\n",
      "ARCH=rhel7-x86_64\n",
      "\n",
      "PORT(BASE=LM2K2:INJ:ELL:1,SERIAL=\"DO01211V\",DEBUG=)\n",
      "\n",
      "\n",
      "ELL6(PORT0,ADDRESS=1)\n",
      "ALIAS(RECORD=\"LM2K2:INJ:ELL:1:M1\",ALIAS=\"LM2K2:INJ_DP1_TF1_SL1\")\n",
      "\n",
      "ELL6(PORT0,ADDRESS=2)\n",
      "ALIAS(RECORD=\"LM2K2:INJ:ELL:1:M2\",ALIAS=\"LM2K2:INJ_DP1_TF1_SL1\")\n",
      "\n"
     ]
    }
   ],
   "source": [
    "print(output)"
   ]
  },
  {
   "cell_type": "code",
   "execution_count": 11,
   "id": "5263d507-407b-429c-a4b8-5c9ef15be249",
   "metadata": {},
   "outputs": [],
   "source": [
    "output_file_path = \"/Users/nagar123/anaconda3/pcds_conda/output.cfg\"\n",
    "with open(output_file_path, \"w\") as file:\n",
    "    file.write(output)"
   ]
  },
  {
   "cell_type": "code",
   "execution_count": 12,
   "id": "c822e4b8-3f4e-45cc-837e-6375a6d94621",
   "metadata": {},
   "outputs": [],
   "source": [
    "# work in progress for ek9k IOCs\n",
    "\n",
    "import argparse\n",
    "\n",
    "from happi import Client\n",
    "from happi.errors import DuplicateError"
   ]
  },
  {
   "cell_type": "code",
   "execution_count": 46,
   "id": "82460be9-77f0-4d62-8cf7-d9ab5c113cda",
   "metadata": {},
   "outputs": [
    {
     "name": "stdout",
     "output_type": "stream",
     "text": [
      "Device found:\n",
      "{'_id': 'lm2k2_atm_dp1_tf1_pm1', 'active': True, 'args': ['{{prefix}}'], 'beamline': 'CRIX_MODS', 'creation': 'Fri Aug 27 14:39:59 2021', 'device_class': 'pcdsdevices.device_types.El3174AiCh', 'documentation': None, 'functional_group': 'power meters', 'input_branches': None, 'ioc_alias': 'LM2K2:ATM_DP1_TF1_PM1', 'ioc_arch': None, 'ioc_base': 'LM2K2:ATM_BHC', 'ioc_card_num': '2', 'ioc_chan_num': '3', 'ioc_engineer': 'tjohnson', 'ioc_hutch': 'LAS', 'ioc_ip': 'bhc-las-crixs-atm-01', 'ioc_location': 'CRIX MODS', 'ioc_name': 'ioc-lm2k2-atm-ek9000-01', 'ioc_release': '/reg/g/pcds/epics/ioc/common/ek9000/R1.2.1', 'ioc_type': 'EK9000', 'kwargs': {'name': '{{name}}'}, 'last_edit': 'Wed Feb 22 15:45:20 2023', 'lightpath': False, 'location_group': '3_lm2k2_atm', 'name': 'lm2k2_atm_dp1_tf1_pm1', 'output_branches': None, 'prefix': 'LM2K2:ATM_DP1_TF1_PM1', 'stand': None, 'type': 'pcdsdevices.happi.containers.ThorlabsPM101PowerMeter', 'z': -1.0}\n"
     ]
    }
   ],
   "source": [
    "search_id = \"ioc-lm2k2-atm-ek9000-01\"  # The name you want to search for\n",
    "\n",
    "# Read the JSON file\n",
    "with open(json_file_path, \"r\") as file:\n",
    "    data = json.load(file)\n",
    "\n",
    "# Search for the device\n",
    "found_device = None\n",
    "#for key, value in data.items():\n",
    "#    print(f\"Key: {key}, Value: {value}\")\n",
    "for key, value in data.items():\n",
    "    if value.get('ioc_name') == search_id:\n",
    "        found_device = value\n",
    "        break\n",
    "\n",
    "# Check if the device was found\n",
    "if found_device:\n",
    "    print(\"Device found:\")\n",
    "    print(found_device)\n",
    "else:\n",
    "    print(\"Device not found.\")"
   ]
  },
  {
   "cell_type": "code",
   "execution_count": 47,
   "id": "db736d90-5bc4-42d6-9152-840652435f93",
   "metadata": {},
   "outputs": [],
   "source": [
    "# will need input of port value for ek9k, number of slaves, channel number, Type \"EL3147\"\n",
    "# setting ALIAS names will also need automation\n",
    "#Ask the user the kind of IOC and inputs ( which cannot be obtained from db.json ) based on the type of IOC to generate cfg files"
   ]
  },
  {
   "cell_type": "code",
   "execution_count": 48,
   "id": "e28bc3dd-6b66-4098-bea4-a330a119f428",
   "metadata": {},
   "outputs": [],
   "source": [
    "#Ask user which kind of IOC is to be created from a list of elliptics, ek9k, "
   ]
  },
  {
   "cell_type": "code",
   "execution_count": 49,
   "id": "0cff5d51-ad28-4cac-8e53-1ad916f348eb",
   "metadata": {},
   "outputs": [],
   "source": [
    "# we can add the port, slaves, channel numbers in happi in future"
   ]
  },
  {
   "cell_type": "code",
   "execution_count": 50,
   "id": "378b57d7-dd1a-4dcb-a4cc-7133c6a3ae6b",
   "metadata": {},
   "outputs": [],
   "source": [
    "port= 4\n",
    "slaves=4, \n",
    "channels=4\n",
    "el3147=\"EL3147\"\n"
   ]
  },
  {
   "cell_type": "code",
   "execution_count": 51,
   "id": "ca04cb2a-6a84-40d7-bfad-ed9717df2949",
   "metadata": {},
   "outputs": [],
   "source": [
    "vars={\n",
    "    'release':found_device.get('ioc_release'),\n",
    "    'engineer':found_device.get('ioc_engineer'),\n",
    "    'location':found_device.get('beamline'),\n",
    "    'ioc_base':found_device.get('ioc_base'),\n",
    "    'ioc_type':found_device.get('ioc_type'),\n",
    "    'ioc_ip':found_device.get('ioc_ip'),\n",
    "    'prefix':found_device.get('prefix'),\n",
    "    'port':port, 'slaves' : slaves, 'channels':channels, 'type':el3147, slaves\n",
    "}\n",
    "#type in vars not to be confused with type in keys in data.items()"
   ]
  },
  {
   "cell_type": "code",
   "execution_count": 52,
   "id": "c36d2448-2245-49c5-bc5c-d77d217a2fed",
   "metadata": {},
   "outputs": [],
   "source": [
    "#template for the ek9k IOCs\n",
    "template=env.get_template('ek9k_template.txt')\n"
   ]
  },
  {
   "cell_type": "code",
   "execution_count": 53,
   "id": "e188e3c2-146c-4fad-90e0-063e0ffc3e30",
   "metadata": {},
   "outputs": [
    {
     "ename": "TypeError",
     "evalue": "dict expected at most 1 argument, got 2",
     "output_type": "error",
     "traceback": [
      "\u001b[0;31m---------------------------------------------------------------------------\u001b[0m",
      "\u001b[0;31mTypeError\u001b[0m                                 Traceback (most recent call last)",
      "Cell \u001b[0;32mIn[53], line 1\u001b[0m\n\u001b[0;32m----> 1\u001b[0m output\u001b[38;5;241m=\u001b[39mtemplate\u001b[38;5;241m.\u001b[39mrender(\u001b[38;5;28mvars\u001b[39m, slaves)\n",
      "File \u001b[0;32m~/anaconda3/envs/my_pcds_conda/lib/python3.11/site-packages/jinja2/environment.py:1296\u001b[0m, in \u001b[0;36mTemplate.render\u001b[0;34m(self, *args, **kwargs)\u001b[0m\n\u001b[1;32m   1293\u001b[0m         \u001b[38;5;28;01mif\u001b[39;00m close:\n\u001b[1;32m   1294\u001b[0m             loop\u001b[38;5;241m.\u001b[39mclose()\n\u001b[0;32m-> 1296\u001b[0m ctx \u001b[38;5;241m=\u001b[39m \u001b[38;5;28mself\u001b[39m\u001b[38;5;241m.\u001b[39mnew_context(\u001b[38;5;28mdict\u001b[39m(\u001b[38;5;241m*\u001b[39margs, \u001b[38;5;241m*\u001b[39m\u001b[38;5;241m*\u001b[39mkwargs))\n\u001b[1;32m   1298\u001b[0m \u001b[38;5;28;01mtry\u001b[39;00m:\n\u001b[1;32m   1299\u001b[0m     \u001b[38;5;28;01mreturn\u001b[39;00m \u001b[38;5;28mself\u001b[39m\u001b[38;5;241m.\u001b[39menvironment\u001b[38;5;241m.\u001b[39mconcat(\u001b[38;5;28mself\u001b[39m\u001b[38;5;241m.\u001b[39mroot_render_func(ctx))  \u001b[38;5;66;03m# type: ignore\u001b[39;00m\n",
      "\u001b[0;31mTypeError\u001b[0m: dict expected at most 1 argument, got 2"
     ]
    }
   ],
   "source": [
    "output=template.render(vars)"
   ]
  },
  {
   "cell_type": "code",
   "execution_count": null,
   "id": "c309c267-a386-4cd3-985c-3e7ec4c3916e",
   "metadata": {},
   "outputs": [],
   "source": []
  }
 ],
 "metadata": {
  "kernelspec": {
   "display_name": "Python 3 (ipykernel)",
   "language": "python",
   "name": "python3"
  },
  "language_info": {
   "codemirror_mode": {
    "name": "ipython",
    "version": 3
   },
   "file_extension": ".py",
   "mimetype": "text/x-python",
   "name": "python",
   "nbconvert_exporter": "python",
   "pygments_lexer": "ipython3",
   "version": "3.11.5"
  }
 },
 "nbformat": 4,
 "nbformat_minor": 5
}
