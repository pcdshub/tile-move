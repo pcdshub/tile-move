{
 "cells": [
  {
   "cell_type": "code",
   "execution_count": 95,
   "id": "5420fdc5-43c6-45e3-a90b-45e9f56a3e5b",
   "metadata": {},
   "outputs": [],
   "source": [
    "from jinja2 import Environment, FileSystemLoader"
   ]
  },
  {
   "cell_type": "code",
   "execution_count": 96,
   "id": "a2ccbb5a-c9dd-4440-98a8-c1b20ccce176",
   "metadata": {},
   "outputs": [],
   "source": [
    "env=Environment(loader=FileSystemLoader('.'), autoescape=True)"
   ]
  },
  {
   "cell_type": "code",
   "execution_count": 97,
   "id": "67aaeeb5-c19c-4cf7-be8c-ffbff1a132a3",
   "metadata": {},
   "outputs": [],
   "source": [
    "client=Client(path='/Users/nagar123/anaconda3/pcds_conda/db.json')"
   ]
  },
  {
   "cell_type": "code",
   "execution_count": 98,
   "id": "bc5df596-5165-4672-b942-8bf33fd811b1",
   "metadata": {},
   "outputs": [],
   "source": [
    "import json\n",
    "\n",
    "# Define the path to your JSON file\n",
    "json_file_path = \"/Users/nagar123/anaconda3/pcds_conda/db.json\"\n"
   ]
  },
  {
   "cell_type": "code",
   "execution_count": 99,
   "id": "aaddc819-126a-438f-a339-bd64bc1ba01e",
   "metadata": {},
   "outputs": [
    {
     "name": "stdout",
     "output_type": "stream",
     "text": [
      "Device found:\n",
      "{'_id': 'lm2k2_inj_dp1_tf1_sl1', 'active': True, 'args': ['{{prefix}}'], 'beamline': 'CRIX_MODS', 'creation': 'Fri Aug 27 11:14:35 2021', 'device_class': 'pcdsdevices.device_types.Ell6', 'documentation': None, 'functional_group': 'elliptecs', 'input_branches': None, 'ioc_alias': 'LM2K2:INJ_DP1_TF1_SL1', 'ioc_arch': 'rhel7-x86_64', 'ioc_base': 'LM2K2:INJ:ELL:0', 'ioc_channel': '2', 'ioc_engineer': 'tjohnson', 'ioc_hutch': 'LAS', 'ioc_location': 'ChemRIXS MODS', 'ioc_model': 'ELL6', 'ioc_name': 'ioc-lm2k2-inj-ell-01', 'ioc_release': '/reg/g/pcds/epics/ioc/common/thorlabs-ell/R0.0.6', 'ioc_serial': 'DO01211V', 'ioc_type': 'Elliptec', 'kwargs': {'channel': '{{ioc_channel}}', 'name': '{{name}}', 'port': '0'}, 'last_edit': 'Fri Jan 12 11:47:28 2024', 'lightpath': False, 'location_group': '1_lm2k2_inj', 'name': 'lm2k2_inj_dp1_tf1_sl1', 'output_branches': None, 'prefix': 'LM2K2:INJ:ELL:1', 'stand': None, 'type': 'pcdsdevices.happi.containers.Elliptec', 'z': -1.0}\n"
     ]
    }
   ],
   "source": [
    "search_name = \"lm2k2_inj_dp1_tf1_sl1\"  # The name you want to search for\n",
    "\n",
    "# Read the JSON file\n",
    "with open(json_file_path, \"r\") as file:\n",
    "    data = json.load(file)\n",
    "\n",
    "# Search for the device by name\n",
    "found_device = None\n",
    "for key, value in data.items():\n",
    "    if value.get(\"name\") == search_name:\n",
    "        found_device = value\n",
    "        break\n",
    "\n",
    "# Check if the device was found\n",
    "if found_device:\n",
    "    print(\"Device found:\")\n",
    "    print(found_device)\n",
    "else:\n",
    "    print(\"Device not found.\")"
   ]
  },
  {
   "cell_type": "code",
   "execution_count": 100,
   "id": "3b73759d-9460-4bcb-8aa4-8b1a4895dd86",
   "metadata": {},
   "outputs": [],
   "source": [
    " template=env.get_template('ioc_template.txt')"
   ]
  },
  {
   "cell_type": "code",
   "execution_count": 101,
   "id": "9711389f-3426-4cca-850e-02374821e20c",
   "metadata": {},
   "outputs": [],
   "source": [
    "vars={\n",
    "    'release':found_device.get('ioc_release'),\n",
    "    'engineer':found_device.get('ioc_engineer'),\n",
    "    'location':found_device.get('beamline'),\n",
    "    'ioc_pv':found_device.get('prefix'),\n",
    "    'arch':found_device.get('ioc_arch'),\n",
    "    'base':found_device.get('prefix'),\n",
    "    'serial':found_device.get('ioc_serial'),\n",
    "    'seq': int(found_device.get('ioc_channel')),\n",
    "    'ioc_model': found_device.get('ioc_model'),\n",
    "    'record':found_device.get('prefix'),\n",
    "    'alias':found_device.get('ioc_alias')\n",
    "}"
   ]
  },
  {
   "cell_type": "code",
   "execution_count": 106,
   "id": "367381ee-c607-49d8-a126-d867658950d9",
   "metadata": {},
   "outputs": [],
   "source": [
    "output=template.render(vars)"
   ]
  },
  {
   "cell_type": "code",
   "execution_count": 107,
   "id": "6a00fcae-59d3-4ba9-87fe-9a2e4362c955",
   "metadata": {},
   "outputs": [
    {
     "name": "stdout",
     "output_type": "stream",
     "text": [
      "RELEASE= /reg/g/pcds/epics/ioc/common/thorlabs-ell/R0.0.6\n",
      "ENGINEER= tjohnson\n",
      "LOCATION=CRIX_MODS\n",
      "IOC_PV=IOC:LM2K2:INJ:ELL:1\n",
      "ARCH=rhel7-x86_64\n",
      "\n",
      "PORT(BASE=LM2K2:INJ:ELL:1,SERIAL=\"DO01211V\",DEBUG=)\n",
      "\n",
      "\n",
      "ELL6(PORT0,ADDRESS=1)\n",
      "ALIAS(RECORD=\"LM2K2:INJ:ELL:1:M1\",ALIAS=\"LM2K2:INJ_DP1_TF1_SL1\")\n",
      "\n",
      "ELL6(PORT0,ADDRESS=2)\n",
      "ALIAS(RECORD=\"LM2K2:INJ:ELL:1:M2\",ALIAS=\"LM2K2:INJ_DP1_TF1_SL1\")\n",
      "\n"
     ]
    }
   ],
   "source": [
    "print(output)"
   ]
  },
  {
   "cell_type": "code",
   "execution_count": 105,
   "id": "5263d507-407b-429c-a4b8-5c9ef15be249",
   "metadata": {},
   "outputs": [],
   "source": [
    "output_file_path = \"/Users/nagar123/anaconda3/pcds_conda/output.cfg\"\n",
    "with open(output_file_path, \"w\") as file:\n",
    "    file.write(output)"
   ]
  },
  {
   "cell_type": "code",
   "execution_count": null,
   "id": "db736d90-5bc4-42d6-9152-840652435f93",
   "metadata": {},
   "outputs": [],
   "source": []
  }
 ],
 "metadata": {
  "kernelspec": {
   "display_name": "Python 3 (ipykernel)",
   "language": "python",
   "name": "python3"
  },
  "language_info": {
   "codemirror_mode": {
    "name": "ipython",
    "version": 3
   },
   "file_extension": ".py",
   "mimetype": "text/x-python",
   "name": "python",
   "nbconvert_exporter": "python",
   "pygments_lexer": "ipython3",
   "version": "3.11.5"
  }
 },
 "nbformat": 4,
 "nbformat_minor": 5
}
